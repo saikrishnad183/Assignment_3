{
  "nbformat": 4,
  "nbformat_minor": 0,
  "metadata": {
    "colab": {
      "provenance": []
    },
    "kernelspec": {
      "name": "python3",
      "display_name": "Python 3"
    },
    "language_info": {
      "name": "python"
    }
  },
  "cells": [
    {
      "cell_type": "code",
      "execution_count": 1,
      "metadata": {
        "colab": {
          "base_uri": "https://localhost:8080/"
        },
        "id": "xGQpLJn1wxKi",
        "outputId": "6e369ad5-a08c-4777-aa91-27a231c39533"
      },
      "outputs": [
        {
          "output_type": "stream",
          "name": "stdout",
          "text": [
            "Count of Number of Employees: 4\n",
            "Average Salary of a Employee: 82.0\n"
          ]
        }
      ],
      "source": [
        "#Student ID: 700755588\n",
        "#       CRN :23476\n",
        "\n",
        "#Question 1\n",
        "\n",
        "class Employee:\n",
        "    countofNoEmp = 0  #help in the count of employees\n",
        "\n",
        "    def __init__(self, name, family, salary, department):\n",
        "        self.name = name\n",
        "        self.family = family\n",
        "        self.salary = salary\n",
        "        self.department = department\n",
        "        Employee.countofNoEmp += 1  #  the employees count is incremented\n",
        "\n",
        "    @staticmethod\n",
        "    def average_salary(employees):\n",
        "        total_salary = sum(employee.salary for employee in employees)\n",
        "        return total_salary /len(employees)\n",
        "\n",
        "class FulltimeEmployee(Employee):\n",
        "    pass\n",
        "\n",
        "\n",
        "e1 = Employee(\"Sai\", \"Sai Family\",87, \"Food\")\n",
        "e2 = Employee(\"kushi\", \"kushi  Family\", 75, \"business\")\n",
        "\n",
        "\n",
        "fulltime_e1 = FulltimeEmployee(\"dgsk\", \"dgsk Family\", 88, \"Farming\")\n",
        "fulltime_e2 = FulltimeEmployee(\"sai\", \"sai's Family\", 78, \"Fancy\")\n",
        "\n",
        "\n",
        "employees = [e1, e2, fulltime_e1, fulltime_e2]\n",
        "avg_sal = Employee.average_salary(employees)\n",
        "\n",
        "print(\"Count of Number of Employees:\", Employee.countofNoEmp)\n",
        "print(\"Average Salary of a Employee:\", avg_sal)"
      ]
    },
    {
      "cell_type": "code",
      "source": [
        "#Student ID: 700758588\n",
        "#       CRN :23476\n",
        "\n",
        "import numpy as np\n",
        "\n",
        "\n",
        "random_vector = np.random.uniform(1, 20, 20)\n",
        "\n",
        "\n",
        "reshaped_array = random_vector.reshape(4, 5)\n",
        "\n",
        "\n",
        "reshaped_array[np.arange(4), np.argmax(reshaped_array, axis=1)] = 0\n",
        "\n",
        "print(\"Original random vector:\")\n",
        "print(random_vector)\n",
        "print(\"\\nReshaped array:\")\n",
        "print(reshaped_array)"
      ],
      "metadata": {
        "colab": {
          "base_uri": "https://localhost:8080/"
        },
        "id": "N5o4B0MYxEpa",
        "outputId": "2d6c696c-6cc1-4d04-b622-721413200bd9"
      },
      "execution_count": 2,
      "outputs": [
        {
          "output_type": "stream",
          "name": "stdout",
          "text": [
            "Original random vector:\n",
            "[ 9.25859241  0.         16.10145406  4.37245936  6.85605385  8.83995207\n",
            "  0.          3.0211853   8.55672485  6.31446439  0.         11.63464104\n",
            " 19.01257854  9.65742336 10.83548909  9.81891204  0.          2.53821367\n",
            "  7.60977333  6.95430052]\n",
            "\n",
            "Reshaped array:\n",
            "[[ 9.25859241  0.         16.10145406  4.37245936  6.85605385]\n",
            " [ 8.83995207  0.          3.0211853   8.55672485  6.31446439]\n",
            " [ 0.         11.63464104 19.01257854  9.65742336 10.83548909]\n",
            " [ 9.81891204  0.          2.53821367  7.60977333  6.95430052]]\n"
          ]
        }
      ]
    }
  ]
}